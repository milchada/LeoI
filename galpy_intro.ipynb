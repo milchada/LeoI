{
 "cells": [
  {
   "cell_type": "code",
   "execution_count": 1,
   "id": "599ffe58",
   "metadata": {},
   "outputs": [
    {
     "ename": "ModuleNotFoundError",
     "evalue": "No module named 'galpy'",
     "output_type": "error",
     "traceback": [
      "\u001b[0;31m---------------------------------------------------------------------------\u001b[0m",
      "\u001b[0;31mModuleNotFoundError\u001b[0m                       Traceback (most recent call last)",
      "Cell \u001b[0;32mIn[1], line 1\u001b[0m\n\u001b[0;32m----> 1\u001b[0m \u001b[38;5;28;01mfrom\u001b[39;00m \u001b[38;5;21;01mgalpy\u001b[39;00m\u001b[38;5;21;01m.\u001b[39;00m\u001b[38;5;21;01mdf\u001b[39;00m \u001b[38;5;28;01mimport\u001b[39;00m streamdf\n\u001b[1;32m      2\u001b[0m \u001b[38;5;28;01mfrom\u001b[39;00m \u001b[38;5;21;01mgalpy\u001b[39;00m\u001b[38;5;21;01m.\u001b[39;00m\u001b[38;5;21;01morbit\u001b[39;00m \u001b[38;5;28;01mimport\u001b[39;00m Orbit\n\u001b[1;32m      3\u001b[0m \u001b[38;5;28;01mfrom\u001b[39;00m \u001b[38;5;21;01mgalpy\u001b[39;00m\u001b[38;5;21;01m.\u001b[39;00m\u001b[38;5;21;01mpotential\u001b[39;00m \u001b[38;5;28;01mimport\u001b[39;00m LogarithmicHaloPotential\n",
      "\u001b[0;31mModuleNotFoundError\u001b[0m: No module named 'galpy'"
     ]
    }
   ],
   "source": [
    "from galpy.df import streamdf\n",
    "from galpy.orbit import Orbit\n",
    "from galpy.potential import LogarithmicHaloPotential\n",
    "from galpy.actionAngle import actionAngleIsochroneApprox\n",
    "from galpy.util import conversion #for unit conversions"
   ]
  },
  {
   "cell_type": "code",
   "execution_count": null,
   "id": "3d8c8287",
   "metadata": {},
   "outputs": [],
   "source": []
  }
 ],
 "metadata": {
  "kernelspec": {
   "display_name": "Python 3 (ipykernel)",
   "language": "python",
   "name": "python3"
  },
  "language_info": {
   "codemirror_mode": {
    "name": "ipython",
    "version": 3
   },
   "file_extension": ".py",
   "mimetype": "text/x-python",
   "name": "python",
   "nbconvert_exporter": "python",
   "pygments_lexer": "ipython3",
   "version": "3.11.2"
  }
 },
 "nbformat": 4,
 "nbformat_minor": 5
}
